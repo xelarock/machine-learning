{
 "cells": [
  {
   "cell_type": "markdown",
   "metadata": {},
   "source": [
    "# Results for HW1\n"
   ]
  },
  {
   "cell_type": "markdown",
   "metadata": {},
   "source": [
    "## Q1"
   ]
  },
  {
   "cell_type": "code",
   "execution_count": 1,
   "metadata": {},
   "outputs": [],
   "source": [
    "import q1"
   ]
  },
  {
   "cell_type": "code",
   "execution_count": 2,
   "metadata": {},
   "outputs": [],
   "source": [
    "samples = q1.gen_random_samples()"
   ]
  },
  {
   "cell_type": "code",
   "execution_count": 3,
   "metadata": {},
   "outputs": [
    {
     "name": "stdout",
     "output_type": "stream",
     "text": [
      "[0.82204077 0.46923035 0.95569271 ... 0.28406877 0.65533293 0.1478714 ]\n"
     ]
    }
   ],
   "source": [
    "print(samples)"
   ]
  },
  {
   "cell_type": "code",
   "execution_count": 4,
   "metadata": {},
   "outputs": [],
   "source": [
    "ss, elapsedTime = q1.sum_squares_for(samples)"
   ]
  },
  {
   "cell_type": "code",
   "execution_count": 5,
   "metadata": {},
   "outputs": [
    {
     "name": "stdout",
     "output_type": "stream",
     "text": [
      "1667254.784602795 1.2916250228881836\n"
     ]
    }
   ],
   "source": [
    "print(ss, elapsedTime)"
   ]
  },
  {
   "cell_type": "code",
   "execution_count": 6,
   "metadata": {},
   "outputs": [],
   "source": [
    "ss, elapsedTime = q1.sum_squares_np(samples)"
   ]
  },
  {
   "cell_type": "code",
   "execution_count": 7,
   "metadata": {},
   "outputs": [
    {
     "name": "stdout",
     "output_type": "stream",
     "text": [
      "1667254.7846029997 0.005399227142333984\n"
     ]
    }
   ],
   "source": [
    "print(ss, elapsedTime)"
   ]
  },
  {
   "cell_type": "code",
   "execution_count": 8,
   "metadata": {},
   "outputs": [
    {
     "name": "stdout",
     "output_type": "stream",
     "text": [
      "Time [sec] (for loop): 1.2727322578430176\n",
      "Time [sec] (np loop): 0.0014462471008300781\n"
     ]
    }
   ],
   "source": [
    "q1.main()"
   ]
  },
  {
   "cell_type": "markdown",
   "metadata": {},
   "source": [
    "Answer: The vectorized approach was much faster than the for loop approach (.0014s vs 1.2727s). "
   ]
  },
  {
   "cell_type": "markdown",
   "metadata": {},
   "source": [
    "## Q2"
   ]
  },
  {
   "cell_type": "code",
   "execution_count": 2,
   "metadata": {},
   "outputs": [
    {
     "name": "stdout",
     "output_type": "stream",
     "text": [
      "[[5.1 7.  6.3]\n",
      " [4.9 6.4 5.8]\n",
      " [4.7 6.9 7.1]\n",
      " [4.6 5.5 6.3]\n",
      " [5.  6.5 6.5]\n",
      " [5.4 5.7 7.6]\n",
      " [4.6 6.3 4.9]\n",
      " [5.  4.9 7.3]\n",
      " [4.4 6.6 6.7]\n",
      " [4.9 5.2 7.2]\n",
      " [5.4 5.  6.5]\n",
      " [4.8 5.9 6.4]\n",
      " [4.8 6.  6.8]\n",
      " [4.3 6.1 5.7]\n",
      " [5.8 5.6 5.8]\n",
      " [5.7 6.7 6.4]\n",
      " [5.4 5.6 6.5]\n",
      " [5.1 5.8 7.7]\n",
      " [5.7 6.2 7.7]\n",
      " [5.1 5.6 6. ]\n",
      " [5.4 5.9 6.9]\n",
      " [5.1 6.1 5.6]\n",
      " [4.6 6.3 7.7]\n",
      " [5.1 6.1 6.3]\n",
      " [4.8 6.4 6.7]\n",
      " [5.  6.6 7.2]\n",
      " [5.  6.8 6.2]\n",
      " [5.2 6.7 6.1]\n",
      " [5.2 6.  6.4]\n",
      " [4.7 5.7 7.2]\n",
      " [4.8 5.5 7.4]\n",
      " [5.4 5.5 7.9]\n",
      " [5.2 5.8 6.4]\n",
      " [5.5 6.  6.3]\n",
      " [4.9 5.4 6.1]\n",
      " [5.  6.  7.7]\n",
      " [5.5 6.7 6.3]\n",
      " [4.9 6.3 6.4]\n",
      " [4.4 5.6 6. ]\n",
      " [5.1 5.5 6.9]\n",
      " [5.  5.5 6.7]\n",
      " [4.5 6.1 6.9]\n",
      " [4.4 5.8 5.8]\n",
      " [5.  5.  6.8]\n",
      " [5.1 5.6 6.7]\n",
      " [4.8 5.7 6.7]\n",
      " [5.1 5.7 6.3]\n",
      " [4.6 6.2 6.5]\n",
      " [5.3 5.1 6.2]\n",
      " [5.  5.7 5.9]]\n",
      "[[3.5 3.2 3.3]\n",
      " [3.  3.2 2.7]\n",
      " [3.2 3.1 3. ]\n",
      " [3.1 2.3 2.9]\n",
      " [3.6 2.8 3. ]\n",
      " [3.9 2.8 3. ]\n",
      " [3.4 3.3 2.5]\n",
      " [3.4 2.4 2.9]\n",
      " [2.9 2.9 2.5]\n",
      " [3.1 2.7 3.6]\n",
      " [3.7 2.  3.2]\n",
      " [3.4 3.  2.7]\n",
      " [3.  2.2 3. ]\n",
      " [3.  2.9 2.5]\n",
      " [4.  2.9 2.8]\n",
      " [4.4 3.1 3.2]\n",
      " [3.9 3.  3. ]\n",
      " [3.5 2.7 3.8]\n",
      " [3.8 2.2 2.6]\n",
      " [3.8 2.5 2.2]\n",
      " [3.4 3.2 3.2]\n",
      " [3.7 2.8 2.8]\n",
      " [3.6 2.5 2.8]\n",
      " [3.3 2.8 2.7]\n",
      " [3.4 2.9 3.3]\n",
      " [3.  3.  3.2]\n",
      " [3.4 2.8 2.8]\n",
      " [3.5 3.  3. ]\n",
      " [3.4 2.9 2.8]\n",
      " [3.2 2.6 3. ]\n",
      " [3.1 2.4 2.8]\n",
      " [3.4 2.4 3.8]\n",
      " [4.1 2.7 2.8]\n",
      " [4.2 2.7 2.8]\n",
      " [3.1 3.  2.6]\n",
      " [3.2 3.4 3. ]\n",
      " [3.5 3.1 3.4]\n",
      " [3.6 2.3 3.1]\n",
      " [3.  3.  3. ]\n",
      " [3.4 2.5 3.1]\n",
      " [3.5 2.6 3.1]\n",
      " [2.3 3.  3.1]\n",
      " [3.2 2.6 2.7]\n",
      " [3.5 2.3 3.2]\n",
      " [3.8 2.7 3.3]\n",
      " [3.  3.  3. ]\n",
      " [3.8 2.9 2.5]\n",
      " [3.2 2.9 3. ]\n",
      " [3.7 2.5 3.4]\n",
      " [3.3 2.8 3. ]]\n",
      "[[1.4 4.7 6. ]\n",
      " [1.4 4.5 5.1]\n",
      " [1.3 4.9 5.9]\n",
      " [1.5 4.  5.6]\n",
      " [1.4 4.6 5.8]\n",
      " [1.7 4.5 6.6]\n",
      " [1.4 4.7 4.5]\n",
      " [1.5 3.3 6.3]\n",
      " [1.4 4.6 5.8]\n",
      " [1.5 3.9 6.1]\n",
      " [1.5 3.5 5.1]\n",
      " [1.6 4.2 5.3]\n",
      " [1.4 4.  5.5]\n",
      " [1.1 4.7 5. ]\n",
      " [1.2 3.6 5.1]\n",
      " [1.5 4.4 5.3]\n",
      " [1.3 4.5 5.5]\n",
      " [1.4 4.1 6.7]\n",
      " [1.7 4.5 6.9]\n",
      " [1.5 3.9 5. ]\n",
      " [1.7 4.8 5.7]\n",
      " [1.5 4.  4.9]\n",
      " [1.  4.9 6.7]\n",
      " [1.7 4.7 4.9]\n",
      " [1.9 4.3 5.7]\n",
      " [1.6 4.4 6. ]\n",
      " [1.6 4.8 4.8]\n",
      " [1.5 5.  4.9]\n",
      " [1.4 4.5 5.6]\n",
      " [1.6 3.5 5.8]\n",
      " [1.6 3.8 6.1]\n",
      " [1.5 3.7 6.4]\n",
      " [1.5 3.9 5.6]\n",
      " [1.4 5.1 5.1]\n",
      " [1.5 4.5 5.6]\n",
      " [1.2 4.5 6.1]\n",
      " [1.3 4.7 5.6]\n",
      " [1.4 4.4 5.5]\n",
      " [1.3 4.1 4.8]\n",
      " [1.5 4.  5.4]\n",
      " [1.3 4.4 5.6]\n",
      " [1.3 4.6 5.1]\n",
      " [1.3 4.  5.1]\n",
      " [1.6 3.3 5.9]\n",
      " [1.9 4.2 5.7]\n",
      " [1.4 4.2 5.2]\n",
      " [1.6 4.2 5. ]\n",
      " [1.4 4.3 5.2]\n",
      " [1.5 3.  5.4]\n",
      " [1.4 4.1 5.1]]\n",
      "[[0.2 1.4 2.5]\n",
      " [0.2 1.5 1.9]\n",
      " [0.2 1.5 2.1]\n",
      " [0.2 1.3 1.8]\n",
      " [0.2 1.5 2.2]\n",
      " [0.4 1.3 2.1]\n",
      " [0.3 1.6 1.7]\n",
      " [0.2 1.  1.8]\n",
      " [0.2 1.3 1.8]\n",
      " [0.1 1.4 2.5]\n",
      " [0.2 1.  2. ]\n",
      " [0.2 1.5 1.9]\n",
      " [0.1 1.  2.1]\n",
      " [0.1 1.4 2. ]\n",
      " [0.2 1.3 2.4]\n",
      " [0.4 1.4 2.3]\n",
      " [0.4 1.5 1.8]\n",
      " [0.3 1.  2.2]\n",
      " [0.3 1.5 2.3]\n",
      " [0.3 1.1 1.5]\n",
      " [0.2 1.8 2.3]\n",
      " [0.4 1.3 2. ]\n",
      " [0.2 1.5 2. ]\n",
      " [0.5 1.2 1.8]\n",
      " [0.2 1.3 2.1]\n",
      " [0.2 1.4 1.8]\n",
      " [0.4 1.4 1.8]\n",
      " [0.2 1.7 1.8]\n",
      " [0.2 1.5 2.1]\n",
      " [0.2 1.  1.6]\n",
      " [0.2 1.1 1.9]\n",
      " [0.4 1.  2. ]\n",
      " [0.1 1.2 2.2]\n",
      " [0.2 1.6 1.5]\n",
      " [0.2 1.5 1.4]\n",
      " [0.2 1.6 2.3]\n",
      " [0.2 1.5 2.4]\n",
      " [0.1 1.3 1.8]\n",
      " [0.2 1.3 1.8]\n",
      " [0.2 1.3 2.1]\n",
      " [0.3 1.2 2.4]\n",
      " [0.3 1.4 2.3]\n",
      " [0.2 1.2 1.9]\n",
      " [0.6 1.  2.3]\n",
      " [0.4 1.3 2.5]\n",
      " [0.3 1.2 2.3]\n",
      " [0.2 1.3 1.9]\n",
      " [0.2 1.3 2. ]\n",
      " [0.2 1.1 2.3]\n",
      " [0.2 1.3 1.8]]\n"
     ]
    },
    {
     "data": {
      "image/png": "[encoded data removed]",
      "text/plain": [
       "<Figure size 432x288 with 4 Axes>"
      ]
     },
     "metadata": {
      "needs_background": "light"
     },
     "output_type": "display_data"
    },
    {
     "data": {
      "image/png": "[encoded data removed]",
      "text/plain": [
       "<Figure size 432x288 with 2 Axes>"
      ]
     },
     "metadata": {
      "needs_background": "light"
     },
     "output_type": "display_data"
    }
   ],
   "source": [
    "import q2"
   ]
  },
  {
   "cell_type": "code",
   "execution_count": 3,
   "metadata": {},
   "outputs": [
    {
     "name": "stdout",
     "output_type": "stream",
     "text": [
      "[[5.1 7.  6.3]\n",
      " [4.9 6.4 5.8]\n",
      " [4.7 6.9 7.1]\n",
      " [4.6 5.5 6.3]\n",
      " [5.  6.5 6.5]\n",
      " [5.4 5.7 7.6]\n",
      " [4.6 6.3 4.9]\n",
      " [5.  4.9 7.3]\n",
      " [4.4 6.6 6.7]\n",
      " [4.9 5.2 7.2]\n",
      " [5.4 5.  6.5]\n",
      " [4.8 5.9 6.4]\n",
      " [4.8 6.  6.8]\n",
      " [4.3 6.1 5.7]\n",
      " [5.8 5.6 5.8]\n",
      " [5.7 6.7 6.4]\n",
      " [5.4 5.6 6.5]\n",
      " [5.1 5.8 7.7]\n",
      " [5.7 6.2 7.7]\n",
      " [5.1 5.6 6. ]\n",
      " [5.4 5.9 6.9]\n",
      " [5.1 6.1 5.6]\n",
      " [4.6 6.3 7.7]\n",
      " [5.1 6.1 6.3]\n",
      " [4.8 6.4 6.7]\n",
      " [5.  6.6 7.2]\n",
      " [5.  6.8 6.2]\n",
      " [5.2 6.7 6.1]\n",
      " [5.2 6.  6.4]\n",
      " [4.7 5.7 7.2]\n",
      " [4.8 5.5 7.4]\n",
      " [5.4 5.5 7.9]\n",
      " [5.2 5.8 6.4]\n",
      " [5.5 6.  6.3]\n",
      " [4.9 5.4 6.1]\n",
      " [5.  6.  7.7]\n",
      " [5.5 6.7 6.3]\n",
      " [4.9 6.3 6.4]\n",
      " [4.4 5.6 6. ]\n",
      " [5.1 5.5 6.9]\n",
      " [5.  5.5 6.7]\n",
      " [4.5 6.1 6.9]\n",
      " [4.4 5.8 5.8]\n",
      " [5.  5.  6.8]\n",
      " [5.1 5.6 6.7]\n",
      " [4.8 5.7 6.7]\n",
      " [5.1 5.7 6.3]\n",
      " [4.6 6.2 6.5]\n",
      " [5.3 5.1 6.2]\n",
      " [5.  5.7 5.9]]\n",
      "[[3.5 3.2 3.3]\n",
      " [3.  3.2 2.7]\n",
      " [3.2 3.1 3. ]\n",
      " [3.1 2.3 2.9]\n",
      " [3.6 2.8 3. ]\n",
      " [3.9 2.8 3. ]\n",
      " [3.4 3.3 2.5]\n",
      " [3.4 2.4 2.9]\n",
      " [2.9 2.9 2.5]\n",
      " [3.1 2.7 3.6]\n",
      " [3.7 2.  3.2]\n",
      " [3.4 3.  2.7]\n",
      " [3.  2.2 3. ]\n",
      " [3.  2.9 2.5]\n",
      " [4.  2.9 2.8]\n",
      " [4.4 3.1 3.2]\n",
      " [3.9 3.  3. ]\n",
      " [3.5 2.7 3.8]\n",
      " [3.8 2.2 2.6]\n",
      " [3.8 2.5 2.2]\n",
      " [3.4 3.2 3.2]\n",
      " [3.7 2.8 2.8]\n",
      " [3.6 2.5 2.8]\n",
      " [3.3 2.8 2.7]\n",
      " [3.4 2.9 3.3]\n",
      " [3.  3.  3.2]\n",
      " [3.4 2.8 2.8]\n",
      " [3.5 3.  3. ]\n",
      " [3.4 2.9 2.8]\n",
      " [3.2 2.6 3. ]\n",
      " [3.1 2.4 2.8]\n",
      " [3.4 2.4 3.8]\n",
      " [4.1 2.7 2.8]\n",
      " [4.2 2.7 2.8]\n",
      " [3.1 3.  2.6]\n",
      " [3.2 3.4 3. ]\n",
      " [3.5 3.1 3.4]\n",
      " [3.6 2.3 3.1]\n",
      " [3.  3.  3. ]\n",
      " [3.4 2.5 3.1]\n",
      " [3.5 2.6 3.1]\n",
      " [2.3 3.  3.1]\n",
      " [3.2 2.6 2.7]\n",
      " [3.5 2.3 3.2]\n",
      " [3.8 2.7 3.3]\n",
      " [3.  3.  3. ]\n",
      " [3.8 2.9 2.5]\n",
      " [3.2 2.9 3. ]\n",
      " [3.7 2.5 3.4]\n",
      " [3.3 2.8 3. ]]\n",
      "[[1.4 4.7 6. ]\n",
      " [1.4 4.5 5.1]\n",
      " [1.3 4.9 5.9]\n",
      " [1.5 4.  5.6]\n",
      " [1.4 4.6 5.8]\n",
      " [1.7 4.5 6.6]\n",
      " [1.4 4.7 4.5]\n",
      " [1.5 3.3 6.3]\n",
      " [1.4 4.6 5.8]\n",
      " [1.5 3.9 6.1]\n",
      " [1.5 3.5 5.1]\n",
      " [1.6 4.2 5.3]\n",
      " [1.4 4.  5.5]\n",
      " [1.1 4.7 5. ]\n",
      " [1.2 3.6 5.1]\n",
      " [1.5 4.4 5.3]\n",
      " [1.3 4.5 5.5]\n",
      " [1.4 4.1 6.7]\n",
      " [1.7 4.5 6.9]\n",
      " [1.5 3.9 5. ]\n",
      " [1.7 4.8 5.7]\n",
      " [1.5 4.  4.9]\n",
      " [1.  4.9 6.7]\n",
      " [1.7 4.7 4.9]\n",
      " [1.9 4.3 5.7]\n",
      " [1.6 4.4 6. ]\n",
      " [1.6 4.8 4.8]\n",
      " [1.5 5.  4.9]\n",
      " [1.4 4.5 5.6]\n",
      " [1.6 3.5 5.8]\n",
      " [1.6 3.8 6.1]\n",
      " [1.5 3.7 6.4]\n",
      " [1.5 3.9 5.6]\n",
      " [1.4 5.1 5.1]\n",
      " [1.5 4.5 5.6]\n",
      " [1.2 4.5 6.1]\n",
      " [1.3 4.7 5.6]\n",
      " [1.4 4.4 5.5]\n",
      " [1.3 4.1 4.8]\n",
      " [1.5 4.  5.4]\n",
      " [1.3 4.4 5.6]\n",
      " [1.3 4.6 5.1]\n",
      " [1.3 4.  5.1]\n",
      " [1.6 3.3 5.9]\n",
      " [1.9 4.2 5.7]\n",
      " [1.4 4.2 5.2]\n",
      " [1.6 4.2 5. ]\n",
      " [1.4 4.3 5.2]\n",
      " [1.5 3.  5.4]\n",
      " [1.4 4.1 5.1]]\n",
      "[[0.2 1.4 2.5]\n",
      " [0.2 1.5 1.9]\n",
      " [0.2 1.5 2.1]\n",
      " [0.2 1.3 1.8]\n",
      " [0.2 1.5 2.2]\n",
      " [0.4 1.3 2.1]\n",
      " [0.3 1.6 1.7]\n",
      " [0.2 1.  1.8]\n",
      " [0.2 1.3 1.8]\n",
      " [0.1 1.4 2.5]\n",
      " [0.2 1.  2. ]\n",
      " [0.2 1.5 1.9]\n",
      " [0.1 1.  2.1]\n",
      " [0.1 1.4 2. ]\n",
      " [0.2 1.3 2.4]\n",
      " [0.4 1.4 2.3]\n",
      " [0.4 1.5 1.8]\n",
      " [0.3 1.  2.2]\n",
      " [0.3 1.5 2.3]\n",
      " [0.3 1.1 1.5]\n",
      " [0.2 1.8 2.3]\n",
      " [0.4 1.3 2. ]\n",
      " [0.2 1.5 2. ]\n",
      " [0.5 1.2 1.8]\n",
      " [0.2 1.3 2.1]\n",
      " [0.2 1.4 1.8]\n",
      " [0.4 1.4 1.8]\n",
      " [0.2 1.7 1.8]\n",
      " [0.2 1.5 2.1]\n",
      " [0.2 1.  1.6]\n",
      " [0.2 1.1 1.9]\n",
      " [0.4 1.  2. ]\n",
      " [0.1 1.2 2.2]\n",
      " [0.2 1.6 1.5]\n",
      " [0.2 1.5 1.4]\n",
      " [0.2 1.6 2.3]\n",
      " [0.2 1.5 2.4]\n",
      " [0.1 1.3 1.8]\n",
      " [0.2 1.3 1.8]\n",
      " [0.2 1.3 2.1]\n",
      " [0.3 1.2 2.4]\n",
      " [0.3 1.4 2.3]\n",
      " [0.2 1.2 1.9]\n",
      " [0.6 1.  2.3]\n",
      " [0.4 1.3 2.5]\n",
      " [0.3 1.2 2.3]\n",
      " [0.2 1.3 1.9]\n",
      " [0.2 1.3 2. ]\n",
      " [0.2 1.1 2.3]\n",
      " [0.2 1.3 1.8]]\n"
     ]
    },
    {
     "data": {
      "image/png": "[encoded data removed]",
      "text/plain": [
       "<Figure size 432x288 with 4 Axes>"
      ]
     },
     "metadata": {
      "needs_background": "light"
     },
     "output_type": "display_data"
    }
   ],
   "source": [
    "q2.q2b()"
   ]
  },
  {
   "cell_type": "code",
   "execution_count": null,
   "metadata": {},
   "outputs": [],
   "source": []
  }
 ],
 "metadata": {
  "kernelspec": {
   "display_name": "Python 3",
   "language": "python",
   "name": "python3"
  },
  "language_info": {
   "codemirror_mode": {
    "name": "ipython",
    "version": 3
   },
   "file_extension": ".py",
   "mimetype": "text/x-python",
   "name": "python",
   "nbconvert_exporter": "python",
   "pygments_lexer": "ipython3",
   "version": "3.7.6"
  }
 },
 "nbformat": 4,
 "nbformat_minor": 4
}
